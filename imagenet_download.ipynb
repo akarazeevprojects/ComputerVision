{
 "cells": [
  {
   "cell_type": "code",
   "execution_count": null,
   "metadata": {},
   "outputs": [],
   "source": [
    "import requests\n",
    "import urllib.request\n",
    "import os\n",
    "from multiprocessing import Pool\n",
    "\n",
    "# pen_url = \"http://image-net.org/api/text/imagenet.synset.geturls?wnid=n02783161\"\n",
    "# r = requests.get(pen_url)\n",
    "# urls = r.content.decode().split('\\r\\n')\n",
    "# urls = list(enumerate(urls))"
   ]
  },
  {
   "cell_type": "markdown",
   "metadata": {},
   "source": [
    "# Download from ImageNet"
   ]
  },
  {
   "cell_type": "code",
   "execution_count": null,
   "metadata": {},
   "outputs": [],
   "source": [
    "folder_name = 'pen'\n",
    "resized_folder_name = 'resized_pen'\n",
    "\n",
    "def download_image(i_url):\n",
    "    i, url = i_url\n",
    "    \n",
    "    try:\n",
    "        image_name = \"{}.jpg\".format(i + 1)\n",
    "        image_path = os.path.join(folder_name, image_name)\n",
    "        \n",
    "        urllib.request.urlretrieve(url, image_path)\n",
    "\n",
    "    except Exception as e:\n",
    "        print(str(e))\n",
    "\n",
    "\n",
    "def listdir(folder_path):\n",
    "    all_files = os.listdir(folder_path)\n",
    "    res = list(filter(lambda x: x.startswith('.') == False, all_files))\n",
    "    return res\n",
    "\n",
    "\n",
    "def grey_image(i_image):\n",
    "    i, image_path = i_image\n",
    "    \n",
    "    try:\n",
    "        image_name = \"{}.jpg\".format(i + 1)\n",
    "        image_path = os.path.join(folder_name, image_name)\n",
    "        resized_image_path = os.path.join(resized_folder_name, image_name)\n",
    "        \n",
    "        img = cv2.imread(image_path, cv2.IMREAD_GRAYSCALE)\n",
    "        resized_image = cv2.resize(img, (100, 100))\n",
    "        cv2.imwrite(resized_image_path, resized_image)\n",
    "\n",
    "    except Exception as e:\n",
    "        print(str(e))"
   ]
  },
  {
   "cell_type": "code",
   "execution_count": null,
   "metadata": {},
   "outputs": [],
   "source": [
    "images = list(enumerate(listdir(folder_name)))"
   ]
  },
  {
   "cell_type": "code",
   "execution_count": null,
   "metadata": {},
   "outputs": [],
   "source": [
    "# p = Pool()\n",
    "# # p.map(download_image, urls)\n",
    "# p.map(grey_image, images)\n",
    "# del p"
   ]
  },
  {
   "cell_type": "code",
   "execution_count": null,
   "metadata": {},
   "outputs": [],
   "source": []
  },
  {
   "cell_type": "code",
   "execution_count": null,
   "metadata": {},
   "outputs": [],
   "source": []
  }
 ],
 "metadata": {
  "kernelspec": {
   "display_name": "Python 3",
   "language": "python",
   "name": "python3"
  },
  "language_info": {
   "codemirror_mode": {
    "name": "ipython",
    "version": 3
   },
   "file_extension": ".py",
   "mimetype": "text/x-python",
   "name": "python",
   "nbconvert_exporter": "python",
   "pygments_lexer": "ipython3",
   "version": "3.7.1"
  }
 },
 "nbformat": 4,
 "nbformat_minor": 2
}
